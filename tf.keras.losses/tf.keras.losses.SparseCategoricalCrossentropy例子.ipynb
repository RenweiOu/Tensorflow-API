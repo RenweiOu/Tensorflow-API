{
 "cells": [
  {
   "cell_type": "code",
   "execution_count": 1,
   "id": "0c70c7a6",
   "metadata": {},
   "outputs": [],
   "source": [
    "import tensorflow as tf\n",
    "import numpy as np\n",
    "\n",
    "# 设置numpy浮点数的长度\n",
    "np.set_printoptions(precision=3, suppress=True)"
   ]
  },
  {
   "cell_type": "markdown",
   "id": "6146cb58",
   "metadata": {},
   "source": [
    "### 看一个例子，理解SparseCategoricalCrossentropy()是如何计算的\n",
    "\n",
    "+ 设置from_logits=True，表示输入样本的是得分值而不是概率值，函数会自动使用softmax将其转换成概率值\n",
    "+ 修改reduction参数，也可以得到每个样本的交叉熵损失, None表示返回每个样本的交叉熵，SUM表示返回交叉熵之和, 默认返回所有交叉熵的平均值"
   ]
  },
  {
   "cell_type": "code",
   "execution_count": 2,
   "id": "ebace800",
   "metadata": {},
   "outputs": [],
   "source": [
    "scc_auto = tf.keras.losses.SparseCategoricalCrossentropy(from_logits=True)\n",
    "\n",
    "scc_none = tf.keras.losses.SparseCategoricalCrossentropy(from_logits=True,\n",
    "            reduction=tf.keras.losses.Reduction.NONE)\n",
    "\n",
    "scc_sum = tf.keras.losses.SparseCategoricalCrossentropy(from_logits=True,\n",
    "            reduction=tf.keras.losses.Reduction.SUM)"
   ]
  },
  {
   "cell_type": "markdown",
   "id": "be973202",
   "metadata": {},
   "source": [
    "+ 计算这组数据的交叉熵损失，假设共有3个类别(0, 1, 2)，3个样本\n",
    "+ 每个样本在对应类别上的预测值都是[1, 2, 3]\n",
    "+ API计算的结果是1.407606(平均值)"
   ]
  },
  {
   "cell_type": "code",
   "execution_count": 3,
   "id": "129dd949",
   "metadata": {},
   "outputs": [],
   "source": [
    "y_true_1 = np.array([0, 1, 2])\n",
    "y_pred_1 = np.array([[6., 2., 3.], [2., 1., 4.], [3., 2., 1.]])"
   ]
  },
  {
   "cell_type": "code",
   "execution_count": 4,
   "id": "402c1bac",
   "metadata": {},
   "outputs": [],
   "source": [
    "y_true_2 = np.array([[0], [1], [2]])\n",
    "y_pred_2 = np.array([[6., 2., 3.], [2., 1., 4.], [3., 2., 1.]])"
   ]
  },
  {
   "cell_type": "markdown",
   "id": "5ca80d2e",
   "metadata": {},
   "source": [
    "scc对y_true_1和y_true_2的计算结果是相同的，尽管两者数据维度不相同"
   ]
  },
  {
   "cell_type": "code",
   "execution_count": 5,
   "id": "22de83eb",
   "metadata": {},
   "outputs": [
    {
     "data": {
      "text/plain": [
       "1.881111979484558"
      ]
     },
     "execution_count": 5,
     "metadata": {},
     "output_type": "execute_result"
    }
   ],
   "source": [
    "scc_auto(y_true_1, y_pred_1).numpy() # 平均值"
   ]
  },
  {
   "cell_type": "code",
   "execution_count": 6,
   "id": "01c3f9d5",
   "metadata": {},
   "outputs": [
    {
     "data": {
      "text/plain": [
       "array([0.066, 3.17 , 2.408])"
      ]
     },
     "execution_count": 6,
     "metadata": {},
     "output_type": "execute_result"
    }
   ],
   "source": [
    "scc_none(y_true_1, y_pred_1).numpy() # 每个样本的损失值"
   ]
  },
  {
   "cell_type": "code",
   "execution_count": 7,
   "id": "6da97df3",
   "metadata": {},
   "outputs": [
    {
     "data": {
      "text/plain": [
       "5.643335819244385"
      ]
     },
     "execution_count": 7,
     "metadata": {},
     "output_type": "execute_result"
    }
   ],
   "source": [
    "scc_sum(y_true_1, y_pred_1).numpy() # 损失值的和"
   ]
  },
  {
   "cell_type": "code",
   "execution_count": 8,
   "id": "91c78023",
   "metadata": {},
   "outputs": [
    {
     "data": {
      "text/plain": [
       "1.881111979484558"
      ]
     },
     "execution_count": 8,
     "metadata": {},
     "output_type": "execute_result"
    }
   ],
   "source": [
    "scc_auto(y_true_2, y_pred_2).numpy()"
   ]
  },
  {
   "cell_type": "code",
   "execution_count": 9,
   "id": "8bad3345",
   "metadata": {},
   "outputs": [
    {
     "data": {
      "text/plain": [
       "array([0.066, 3.17 , 2.408])"
      ]
     },
     "execution_count": 9,
     "metadata": {},
     "output_type": "execute_result"
    }
   ],
   "source": [
    "scc_none(y_true_2, y_pred_2).numpy()"
   ]
  },
  {
   "cell_type": "code",
   "execution_count": 10,
   "id": "a5eb4aa5",
   "metadata": {},
   "outputs": [
    {
     "data": {
      "text/plain": [
       "5.643335819244385"
      ]
     },
     "execution_count": 10,
     "metadata": {},
     "output_type": "execute_result"
    }
   ],
   "source": [
    "scc_sum(y_true_2, y_pred_2).numpy()"
   ]
  },
  {
   "cell_type": "markdown",
   "id": "9c3b0ce7",
   "metadata": {},
   "source": [
    "下面手动模拟一遍，首先需要把预测值1，2，3通过softmax()函数转换成概率值，可以使用keras提供的softmax()函数先将预测值转换成概率值\n",
    "\n",
    "+ 注意输入参数的值必须是二维的，且必须是tensor对象，每一行表示一个样本在各个类别上的得分值\n",
    "+ 计算公式相当于exp(x) / tf.reduce_sum(exp(x))"
   ]
  },
  {
   "cell_type": "code",
   "execution_count": 11,
   "id": "5c0f75bc",
   "metadata": {},
   "outputs": [
    {
     "data": {
      "text/plain": [
       "<tf.Tensor: shape=(3, 3), dtype=float64, numpy=\n",
       "array([[0.936, 0.017, 0.047],\n",
       "       [0.114, 0.042, 0.844],\n",
       "       [0.665, 0.245, 0.09 ]])>"
      ]
     },
     "execution_count": 11,
     "metadata": {},
     "output_type": "execute_result"
    }
   ],
   "source": [
    "t = tf.keras.activations.softmax(tf.constant(y_pred_1))\n",
    "t"
   ]
  },
  {
   "cell_type": "markdown",
   "id": "f18b94e2",
   "metadata": {},
   "source": [
    "+ 得到概率值后，根据每个样本的正确类别计算交叉熵损失\n",
    "+ 还需要将标签值转换成独热编码的形式，使用tf.one_hot函数"
   ]
  },
  {
   "cell_type": "code",
   "execution_count": 12,
   "id": "d6c5753e",
   "metadata": {},
   "outputs": [
    {
     "data": {
      "text/plain": [
       "<tf.Tensor: shape=(3, 3), dtype=float64, numpy=\n",
       "array([[1., 0., 0.],\n",
       "       [0., 1., 0.],\n",
       "       [0., 0., 1.]])>"
      ]
     },
     "execution_count": 12,
     "metadata": {},
     "output_type": "execute_result"
    }
   ],
   "source": [
    "y_true_one_hot = tf.one_hot(indices=y_true_1, depth=3, dtype=tf.float64)\n",
    "y_true_one_hot"
   ]
  },
  {
   "cell_type": "code",
   "execution_count": 13,
   "id": "8a36df73",
   "metadata": {},
   "outputs": [],
   "source": [
    "# 计算交叉熵，每行是一个样本，注意加上负号\n",
    "# 因为独热编码只有一个元素不为0，因此每一行只有对应正确类别才有损失值\n",
    "loss = -y_true_one_hot * tf.math.log(t)"
   ]
  },
  {
   "cell_type": "markdown",
   "id": "4b6552dc",
   "metadata": {},
   "source": [
    "+ 最后对每一行求和即可，可以看到与API计算的结果一致"
   ]
  },
  {
   "cell_type": "code",
   "execution_count": 14,
   "id": "f15ef123",
   "metadata": {},
   "outputs": [
    {
     "data": {
      "text/plain": [
       "<tf.Tensor: shape=(3,), dtype=float64, numpy=array([0.066, 3.17 , 2.408])>"
      ]
     },
     "execution_count": 14,
     "metadata": {},
     "output_type": "execute_result"
    }
   ],
   "source": [
    "tf.math.reduce_sum(loss, axis=1)"
   ]
  }
 ],
 "metadata": {
  "kernelspec": {
   "display_name": "Python [conda env:tensorflow26] *",
   "language": "python",
   "name": "conda-env-tensorflow26-py"
  },
  "language_info": {
   "codemirror_mode": {
    "name": "ipython",
    "version": 3
   },
   "file_extension": ".py",
   "mimetype": "text/x-python",
   "name": "python",
   "nbconvert_exporter": "python",
   "pygments_lexer": "ipython3",
   "version": "3.8.12"
  }
 },
 "nbformat": 4,
 "nbformat_minor": 5
}
